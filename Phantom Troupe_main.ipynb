{
 "cells": [
  {
   "cell_type": "code",
   "execution_count": 1,
   "id": "513e855c-9c82-4688-81bc-915463fa676c",
   "metadata": {},
   "outputs": [
    {
     "data": {
      "text/plain": [
       "(134486, 19)"
      ]
     },
     "execution_count": 1,
     "metadata": {},
     "output_type": "execute_result"
    }
   ],
   "source": [
    "import pandas as pd\n",
    "total = pd.read_csv(r\"C:\\Users\\Jogendra\\Downloads\\nexus-by-djs-nsdc-ultraceuticals\\train.csv\")\n",
    "total.shape"
   ]
  },
  {
   "cell_type": "code",
   "execution_count": 2,
   "id": "e9e78995-bb75-4ac2-ae6c-b47ae231f288",
   "metadata": {},
   "outputs": [
    {
     "data": {
      "text/plain": [
       "(134484, 19)"
      ]
     },
     "execution_count": 2,
     "metadata": {},
     "output_type": "execute_result"
    }
   ],
   "source": [
    "total = total[total['DRUGTYPE'] != 'Recombinant protein']\n",
    "total.shape"
   ]
  },
  {
   "cell_type": "code",
   "execution_count": 3,
   "id": "068aefae-dfa5-4d37-89fc-791e83f39f09",
   "metadata": {},
   "outputs": [
    {
     "data": {
      "text/plain": [
       "589"
      ]
     },
     "execution_count": 3,
     "metadata": {},
     "output_type": "execute_result"
    }
   ],
   "source": [
    "total.Disease.nunique()"
   ]
  },
  {
   "cell_type": "code",
   "execution_count": 4,
   "id": "17d622ea-a1a9-4050-9c37-5b7279e08607",
   "metadata": {},
   "outputs": [
    {
     "data": {
      "text/plain": [
       "18"
      ]
     },
     "execution_count": 4,
     "metadata": {},
     "output_type": "execute_result"
    }
   ],
   "source": [
    "not_in_array2 = ['Sarcoidosis', 'Blood chemistry clinical sympton', 'Joint direct infection', 'Adenocarcinoma', 'Snakebite', 'CNS birth injury', 'Acquired haemolytic anaemia', 'Pancreas disease', 'Anaerobic bacterial infection', 'Retinal inflammation', 'Ocular cancer', 'Congenital ichthyosis', 'Autonomic nervous system disorder', 'Cervical intraepithelial neoplasia', 'Genital organ in situ carcinoma', 'Fragrance/cosmetics phototoxic reaction', 'Dysplasia', 'Myelopathy']\n",
    "len(not_in_array2)"
   ]
  },
  {
   "cell_type": "code",
   "execution_count": 5,
   "id": "ec71d398-6fa9-47b4-93ee-a3dc45fe5a6f",
   "metadata": {},
   "outputs": [
    {
     "data": {
      "text/plain": [
       "(134434, 19)"
      ]
     },
     "execution_count": 5,
     "metadata": {},
     "output_type": "execute_result"
    }
   ],
   "source": [
    "values_to_remove = not_in_array2\n",
    "\n",
    "total = total[~total['Disease'].isin(values_to_remove)]\n",
    "total.shape"
   ]
  },
  {
   "cell_type": "code",
   "execution_count": 6,
   "id": "8a27dffd-049d-4341-974c-16f81e1e05b3",
   "metadata": {},
   "outputs": [
    {
     "data": {
      "text/plain": [
       "698"
      ]
     },
     "execution_count": 6,
     "metadata": {},
     "output_type": "execute_result"
    }
   ],
   "source": [
    "total.TARGNAME.nunique()"
   ]
  },
  {
   "cell_type": "code",
   "execution_count": 7,
   "id": "ea0816e8-b19a-47fc-a8d3-665246b13b0e",
   "metadata": {},
   "outputs": [
    {
     "data": {
      "text/plain": [
       "58"
      ]
     },
     "execution_count": 7,
     "metadata": {},
     "output_type": "execute_result"
    }
   ],
   "source": [
    "tar_remove = ['Ribosomal protein S6 kinase alpha-2 (RSK2)', 'Steroid 5-alpha-reductase 2 (SRD5A2)', 'N-formyl peptide receptor (FPR1)', 'Lymphocyte IgE receptor (CD23)', 'Plasmodium Plasmepsin 1 (Malaria PLA1)', 'Monoglyceride lipase (MAGL)', 'Voltage-gated potassium channel Kv7.1 (KCNQ1)', 'Plasmodium CDK Pfmrk (Malaria Pfmrk)', 'Adaptor-associated kinase 1 (AAK1)', 'Renal carcinoma antigen NY-REN-56 (PFKFB3)', 'Nitric-oxide synthase brain (NOS1)', 'Hepatitis C virus NS3 helicase (HCV NS3)', 'Heat shock protein 20 (HSP20)', 'Thymidine kinase 2 (Mt-TK2)', 'Myosin light kinase (MYLK)', 'S100 calcium-binding protein B (S100B)', 'Adenylate cyclase type 1 (ADCY1)', 'Apoptosis signal-regulating kinase 1 (MAP3K5)', 'Glutathione S-transferase P (GSTP1)', 'Metabotropic glutamate receptor 4 (mGluR4)', 'Somatostatin receptor type 3 (SSTR3)', 'Rotamase A (PPIA)', 'Bacterial Beta-ketoacyl-ACP synthase III (Bact fabH)', 'Ubiquitin carboxyl-terminal hydrolase 2 (USP2)', 'Transcription factor AP-1 (JUN)', 'Caspase-9 (CASP9)', 'Phospholipase D2 (PLD2)', 'ATP-binding cassette transporter C8 (ABCC8)', 'Leucine-rich repeat kinase 2 (LRRK2)', 'G-protein coupled receptor 54 (KISS1R)', 'Plasmodium Oxoacyl-[acyl-carrier protein] reductase (Malaria fabG)', 'Calcitonin receptor (CALCR)', 'PRKR-like endoplasmic reticulum kinase (PERK)', 'Free fatty acid receptor 2 (FFAR2)', 'Neuronal acetylcholine receptor alpha-1 (CHRNA1)', 'Endoplasmic reticulum to nucleus signaling 1 (ERN1)', 'Transient receptor potential cation channel V4 (TRPV4)', 'C-C chemokine receptor type 9 (CCR9)', 'C-X-C chemokine receptor type 5 (CXCR5)', 'Bacterial Phosphoshikimate1-carboxyvinyltransferase (Bact aroA)', 'Tryptophan 2,3-dioxygenase (TDO)', 'Ubiquitin isopeptidase Y (USP8)', 'Protein arginine methyltransferase 1 (PRMT1)', 'Human papillomavirus protein E6 (HPV E6)', 'HepG2 glucose transporter (SLC2A1)', 'Sarcoplasmic/endoplasmic reticulum calcium ATPase 2 (ATP2A2)', 'Synuclein alpha (SNCA)', 'Ephrin type-A receptor 3 (EPHA3)', 'Microtubule affinity regulating kinase 3 (MARK3)', 'Phosphodiesterase 7B (PDE7B)', 'Glutamate decarboxylase (GLUL)', 'Hydroxyphenylpyruvate dioxygenase (HPD)', 'Phosphodiesterase 1B (PDE1B)', 'Protein-tyrosine phosphatase sigma (R-PTP-sigma)', 'Bacterial DNA gyrase B (Bact gyrB)', 'Protein-serine O-palmitoleoyltransferase porcupine (PORCN)', 'Glutaminyl cyclase (QPCT)', 'Hexokinase-2 (HK2)']\n",
    "len(tar_remove)"
   ]
  },
  {
   "cell_type": "code",
   "execution_count": 8,
   "id": "f1a86819-a0d6-4d39-8b00-249aadc7fbe4",
   "metadata": {},
   "outputs": [
    {
     "name": "stdout",
     "output_type": "stream",
     "text": [
      "134227\n"
     ]
    },
    {
     "data": {
      "text/html": [
       "<div>\n",
       "<style scoped>\n",
       "    .dataframe tbody tr th:only-of-type {\n",
       "        vertical-align: middle;\n",
       "    }\n",
       "\n",
       "    .dataframe tbody tr th {\n",
       "        vertical-align: top;\n",
       "    }\n",
       "\n",
       "    .dataframe thead th {\n",
       "        text-align: right;\n",
       "    }\n",
       "</style>\n",
       "<table border=\"1\" class=\"dataframe\">\n",
       "  <thead>\n",
       "    <tr style=\"text-align: right;\">\n",
       "      <th></th>\n",
       "      <th>ID</th>\n",
       "      <th>TargetID</th>\n",
       "      <th>DRUGID</th>\n",
       "      <th>DRUGTYPE</th>\n",
       "      <th>Drug_high_status</th>\n",
       "      <th>DRUGNAME</th>\n",
       "      <th>PUBCHCID</th>\n",
       "      <th>Disease_of_highest_status</th>\n",
       "      <th>Drug_Status</th>\n",
       "      <th>UNIPROID</th>\n",
       "      <th>TARGNAME</th>\n",
       "      <th>GENENAME</th>\n",
       "      <th>SYNONYMS</th>\n",
       "      <th>FUNCTION</th>\n",
       "      <th>BIOCLASS</th>\n",
       "      <th>SEQUENCE</th>\n",
       "      <th>Disease</th>\n",
       "      <th>Accession Number</th>\n",
       "      <th>Target_Status</th>\n",
       "    </tr>\n",
       "  </thead>\n",
       "  <tbody>\n",
       "    <tr>\n",
       "      <th>0</th>\n",
       "      <td>140736</td>\n",
       "      <td>T51115</td>\n",
       "      <td>D0L4YD</td>\n",
       "      <td>Small molecular drug</td>\n",
       "      <td>Approved</td>\n",
       "      <td>Solifenacin</td>\n",
       "      <td>154059</td>\n",
       "      <td>Overactive bladder</td>\n",
       "      <td>Approved</td>\n",
       "      <td>CAC1C_HUMAN</td>\n",
       "      <td>Voltage-gated calcium channel alpha Cav1.2 (CA...</td>\n",
       "      <td>CACNA1C</td>\n",
       "      <td>Voltage-gated calcium channel subunit alpha Ca...</td>\n",
       "      <td>Mediates influx of calcium ions into the cytop...</td>\n",
       "      <td>Voltage-gated ion channel</td>\n",
       "      <td>MVNENTRMYIPEENHQGSNYGSPRPAHANMNANAAAGLAPEHIPTP...</td>\n",
       "      <td>Genetic cardiac arrhythmia</td>\n",
       "      <td>Q13936</td>\n",
       "      <td>Terminated</td>\n",
       "    </tr>\n",
       "    <tr>\n",
       "      <th>1</th>\n",
       "      <td>133048</td>\n",
       "      <td>T60529</td>\n",
       "      <td>D03NMM</td>\n",
       "      <td>Small molecular drug</td>\n",
       "      <td>Investigative</td>\n",
       "      <td>AM-643</td>\n",
       "      <td>46843035</td>\n",
       "      <td>Dermatological disease</td>\n",
       "      <td>Investigative</td>\n",
       "      <td>PGH1_HUMAN</td>\n",
       "      <td>Prostaglandin G/H synthase 1 (COX-1)</td>\n",
       "      <td>PTGS1</td>\n",
       "      <td>Prostaglandin-endoperoxide synthase 1; Prostag...</td>\n",
       "      <td>Converts arachidonate to prostaglandin H2 (PGH...</td>\n",
       "      <td>Paired donor oxygen oxidoreductase</td>\n",
       "      <td>MSRSLLLWFLLFLLLLPPLPVLLADPGAPTPVNPCCYYPCQHQGIC...</td>\n",
       "      <td>Rheumatoid arthritis</td>\n",
       "      <td>P23219</td>\n",
       "      <td>Approved</td>\n",
       "    </tr>\n",
       "    <tr>\n",
       "      <th>2</th>\n",
       "      <td>60493</td>\n",
       "      <td>T80975</td>\n",
       "      <td>D0T2ER</td>\n",
       "      <td>Small molecular drug</td>\n",
       "      <td>Phase 1</td>\n",
       "      <td>TAK-593</td>\n",
       "      <td>24767976</td>\n",
       "      <td>Solid tumour/cancer</td>\n",
       "      <td>Phase 1</td>\n",
       "      <td>VGFR2_HUMAN</td>\n",
       "      <td>Vascular endothelial growth factor receptor 2 ...</td>\n",
       "      <td>KDR</td>\n",
       "      <td>VEGFR2; VEGFR-2; VEGF-2 receptor; Protein-tyro...</td>\n",
       "      <td>Plays an essential role in the regulation of a...</td>\n",
       "      <td>Kinase</td>\n",
       "      <td>MQSKVLLAVALWLCVETRAASVGLPSVSLDLPRLSIQKDILTIKAN...</td>\n",
       "      <td>Renal cell carcinoma</td>\n",
       "      <td>P35968</td>\n",
       "      <td>Approved</td>\n",
       "    </tr>\n",
       "    <tr>\n",
       "      <th>3</th>\n",
       "      <td>169176</td>\n",
       "      <td>T92072</td>\n",
       "      <td>D07ESH</td>\n",
       "      <td>Small molecular drug</td>\n",
       "      <td>Discontinued in Phase 3</td>\n",
       "      <td>PF-1913539</td>\n",
       "      <td>176408</td>\n",
       "      <td>Alzheimer disease</td>\n",
       "      <td>Discontinued in Phase 3</td>\n",
       "      <td>AA1R_HUMAN</td>\n",
       "      <td>Adenosine A1 receptor (ADORA1)</td>\n",
       "      <td>ADORA1</td>\n",
       "      <td>Adenosine receptor A1; A(1) adenosine receptor</td>\n",
       "      <td>The activity of this receptor is mediated by G...</td>\n",
       "      <td>GPCR rhodopsin</td>\n",
       "      <td>MPPSISAFQAAYIGIEVLIALVSVPGNVLVIWAVKVNQALRDATFC...</td>\n",
       "      <td>Hyper-lipoproteinaemia</td>\n",
       "      <td>P30542</td>\n",
       "      <td>Phase 2</td>\n",
       "    </tr>\n",
       "    <tr>\n",
       "      <th>4</th>\n",
       "      <td>120183</td>\n",
       "      <td>T30082</td>\n",
       "      <td>D0Q0RC</td>\n",
       "      <td>Small molecular drug</td>\n",
       "      <td>Approved</td>\n",
       "      <td>Ethopropazine</td>\n",
       "      <td>3290</td>\n",
       "      <td>Parkinson disease</td>\n",
       "      <td>Approved</td>\n",
       "      <td>ACES_HUMAN</td>\n",
       "      <td>Acetylcholinesterase (AChE)</td>\n",
       "      <td>ACHE</td>\n",
       "      <td>YT; N-ACHE; ARACHE</td>\n",
       "      <td>Role in neuronal apoptosis. Terminates signal ...</td>\n",
       "      <td>Carboxylic ester hydrolase</td>\n",
       "      <td>MRPPQCLLHTPSLASPLLLLLLWLLGGGVGAEGREDAELLVTVRGG...</td>\n",
       "      <td>Oesophageal/gastroduodenal disorder</td>\n",
       "      <td>P22303</td>\n",
       "      <td>Approved</td>\n",
       "    </tr>\n",
       "    <tr>\n",
       "      <th>...</th>\n",
       "      <td>...</td>\n",
       "      <td>...</td>\n",
       "      <td>...</td>\n",
       "      <td>...</td>\n",
       "      <td>...</td>\n",
       "      <td>...</td>\n",
       "      <td>...</td>\n",
       "      <td>...</td>\n",
       "      <td>...</td>\n",
       "      <td>...</td>\n",
       "      <td>...</td>\n",
       "      <td>...</td>\n",
       "      <td>...</td>\n",
       "      <td>...</td>\n",
       "      <td>...</td>\n",
       "      <td>...</td>\n",
       "      <td>...</td>\n",
       "      <td>...</td>\n",
       "      <td>...</td>\n",
       "    </tr>\n",
       "    <tr>\n",
       "      <th>134481</th>\n",
       "      <td>147910</td>\n",
       "      <td>T59328</td>\n",
       "      <td>D06WRF</td>\n",
       "      <td>Small molecular drug</td>\n",
       "      <td>Phase 2</td>\n",
       "      <td>KD019</td>\n",
       "      <td>10458325</td>\n",
       "      <td>Meningioma metastases</td>\n",
       "      <td>Phase 2</td>\n",
       "      <td>EGFR_HUMAN</td>\n",
       "      <td>Epidermal growth factor receptor (EGFR)</td>\n",
       "      <td>EGFR</td>\n",
       "      <td>Receptor tyrosine-protein kinase erbB-1; Proto...</td>\n",
       "      <td>Receptor tyrosine kinase binding ligands of th...</td>\n",
       "      <td>Kinase</td>\n",
       "      <td>MRPSGTAGAALLALLAALCPASRALEEKKVCQGTSNKLTQLGTFED...</td>\n",
       "      <td>Chronic pain</td>\n",
       "      <td>P00533</td>\n",
       "      <td>Phase 2</td>\n",
       "    </tr>\n",
       "    <tr>\n",
       "      <th>134482</th>\n",
       "      <td>37688</td>\n",
       "      <td>T65236</td>\n",
       "      <td>D0WM5O</td>\n",
       "      <td>Small molecular drug</td>\n",
       "      <td>Phase 1/2</td>\n",
       "      <td>G1</td>\n",
       "      <td>5322399</td>\n",
       "      <td>Lymphoma</td>\n",
       "      <td>Phase 1/2</td>\n",
       "      <td>GPER1_HUMAN</td>\n",
       "      <td>G-protein coupled estrogen receptor 1 (GPER1)</td>\n",
       "      <td>GPER1</td>\n",
       "      <td>Membrane estrogen receptor; Lymphocyte-derived...</td>\n",
       "      <td>Receptor for estrogen. .</td>\n",
       "      <td>GPCR rhodopsin</td>\n",
       "      <td>MDVTSQARGVGLEMYPGTAQPAAPNTTSPELNLSHPLLGTALANGT...</td>\n",
       "      <td>Lymphoma</td>\n",
       "      <td>Q99527</td>\n",
       "      <td>Phase 1/2</td>\n",
       "    </tr>\n",
       "    <tr>\n",
       "      <th>134483</th>\n",
       "      <td>30073</td>\n",
       "      <td>T47768</td>\n",
       "      <td>D04JHN</td>\n",
       "      <td>Small molecular drug</td>\n",
       "      <td>Approved</td>\n",
       "      <td>Hydromorphone</td>\n",
       "      <td>5284570</td>\n",
       "      <td>Chronic pain</td>\n",
       "      <td>Phase 3</td>\n",
       "      <td>OPRM_HUMAN</td>\n",
       "      <td>Opioid receptor mu (MOP)</td>\n",
       "      <td>OPRM1</td>\n",
       "      <td>hMOP; Mu-type opioid receptor; Mu opioid recep...</td>\n",
       "      <td>Receptor for natural and synthetic opioids inc...</td>\n",
       "      <td>GPCR rhodopsin</td>\n",
       "      <td>MDSSAAPTNASNCTDALAYSSCSPAPSPGSWVNLSHLDGNLSDPCG...</td>\n",
       "      <td>Movement disorder</td>\n",
       "      <td>P35372</td>\n",
       "      <td>Investigative</td>\n",
       "    </tr>\n",
       "    <tr>\n",
       "      <th>134484</th>\n",
       "      <td>37855</td>\n",
       "      <td>T40276</td>\n",
       "      <td>D0O0LS</td>\n",
       "      <td>Small molecular drug</td>\n",
       "      <td>Approved</td>\n",
       "      <td>Entrectinib</td>\n",
       "      <td>25141092</td>\n",
       "      <td>Mammary analogue secretory carcinoma</td>\n",
       "      <td>Phase 1</td>\n",
       "      <td>KPCB_HUMAN</td>\n",
       "      <td>Protein kinase C beta (PRKCB)</td>\n",
       "      <td>PRKCB</td>\n",
       "      <td>Protein kinase C beta type; PRKCB1; PKCB; PKC-...</td>\n",
       "      <td>Plays a key role in B-cell activation by regul...</td>\n",
       "      <td>Kinase</td>\n",
       "      <td>MADPAAGPPPSEGEESTVRFARKGALRQKNVHEVKNHKFTARFFKQ...</td>\n",
       "      <td>Malignant haematopoietic neoplasm</td>\n",
       "      <td>P05771</td>\n",
       "      <td>Phase 3</td>\n",
       "    </tr>\n",
       "    <tr>\n",
       "      <th>134485</th>\n",
       "      <td>3288</td>\n",
       "      <td>T68251</td>\n",
       "      <td>D00UCC</td>\n",
       "      <td>Small molecular drug</td>\n",
       "      <td>Discontinued in Phase 1</td>\n",
       "      <td>ABT-518</td>\n",
       "      <td>9827497</td>\n",
       "      <td>Solid tumour/cancer</td>\n",
       "      <td>Discontinued in Phase 1</td>\n",
       "      <td>MMP2_HUMAN</td>\n",
       "      <td>Matrix metalloproteinase-2 (MMP-2)</td>\n",
       "      <td>MMP2</td>\n",
       "      <td>TBE-1; Matrix metalloproteinase 2; CLG4A; 72 k...</td>\n",
       "      <td>As well as degrading extracellular matrix prot...</td>\n",
       "      <td>Peptidase</td>\n",
       "      <td>MEALMARGALTGPLRALCLLGCLLSHAAAAPSPIIKFPGDVAPKTD...</td>\n",
       "      <td>Multiple sclerosis</td>\n",
       "      <td>P08253</td>\n",
       "      <td>Terminated</td>\n",
       "    </tr>\n",
       "  </tbody>\n",
       "</table>\n",
       "<p>134227 rows × 19 columns</p>\n",
       "</div>"
      ],
      "text/plain": [
       "            ID TargetID  DRUGID              DRUGTYPE  \\\n",
       "0       140736   T51115  D0L4YD  Small molecular drug   \n",
       "1       133048   T60529  D03NMM  Small molecular drug   \n",
       "2        60493   T80975  D0T2ER  Small molecular drug   \n",
       "3       169176   T92072  D07ESH  Small molecular drug   \n",
       "4       120183   T30082  D0Q0RC  Small molecular drug   \n",
       "...        ...      ...     ...                   ...   \n",
       "134481  147910   T59328  D06WRF  Small molecular drug   \n",
       "134482   37688   T65236  D0WM5O  Small molecular drug   \n",
       "134483   30073   T47768  D04JHN  Small molecular drug   \n",
       "134484   37855   T40276  D0O0LS  Small molecular drug   \n",
       "134485    3288   T68251  D00UCC  Small molecular drug   \n",
       "\n",
       "               Drug_high_status       DRUGNAME  PUBCHCID  \\\n",
       "0                      Approved    Solifenacin    154059   \n",
       "1                 Investigative         AM-643  46843035   \n",
       "2                       Phase 1        TAK-593  24767976   \n",
       "3       Discontinued in Phase 3     PF-1913539    176408   \n",
       "4                      Approved  Ethopropazine      3290   \n",
       "...                         ...            ...       ...   \n",
       "134481                  Phase 2          KD019  10458325   \n",
       "134482                Phase 1/2             G1   5322399   \n",
       "134483                 Approved  Hydromorphone   5284570   \n",
       "134484                 Approved    Entrectinib  25141092   \n",
       "134485  Discontinued in Phase 1        ABT-518   9827497   \n",
       "\n",
       "                   Disease_of_highest_status              Drug_Status  \\\n",
       "0                         Overactive bladder                 Approved   \n",
       "1                     Dermatological disease            Investigative   \n",
       "2                        Solid tumour/cancer                  Phase 1   \n",
       "3                          Alzheimer disease  Discontinued in Phase 3   \n",
       "4                          Parkinson disease                 Approved   \n",
       "...                                      ...                      ...   \n",
       "134481                 Meningioma metastases                  Phase 2   \n",
       "134482                              Lymphoma                Phase 1/2   \n",
       "134483                          Chronic pain                  Phase 3   \n",
       "134484  Mammary analogue secretory carcinoma                  Phase 1   \n",
       "134485                   Solid tumour/cancer  Discontinued in Phase 1   \n",
       "\n",
       "           UNIPROID                                           TARGNAME  \\\n",
       "0       CAC1C_HUMAN  Voltage-gated calcium channel alpha Cav1.2 (CA...   \n",
       "1        PGH1_HUMAN               Prostaglandin G/H synthase 1 (COX-1)   \n",
       "2       VGFR2_HUMAN  Vascular endothelial growth factor receptor 2 ...   \n",
       "3        AA1R_HUMAN                     Adenosine A1 receptor (ADORA1)   \n",
       "4        ACES_HUMAN                        Acetylcholinesterase (AChE)   \n",
       "...             ...                                                ...   \n",
       "134481   EGFR_HUMAN            Epidermal growth factor receptor (EGFR)   \n",
       "134482  GPER1_HUMAN      G-protein coupled estrogen receptor 1 (GPER1)   \n",
       "134483   OPRM_HUMAN                           Opioid receptor mu (MOP)   \n",
       "134484   KPCB_HUMAN                      Protein kinase C beta (PRKCB)   \n",
       "134485   MMP2_HUMAN                 Matrix metalloproteinase-2 (MMP-2)   \n",
       "\n",
       "       GENENAME                                           SYNONYMS  \\\n",
       "0       CACNA1C  Voltage-gated calcium channel subunit alpha Ca...   \n",
       "1         PTGS1  Prostaglandin-endoperoxide synthase 1; Prostag...   \n",
       "2           KDR  VEGFR2; VEGFR-2; VEGF-2 receptor; Protein-tyro...   \n",
       "3        ADORA1     Adenosine receptor A1; A(1) adenosine receptor   \n",
       "4          ACHE                                 YT; N-ACHE; ARACHE   \n",
       "...         ...                                                ...   \n",
       "134481     EGFR  Receptor tyrosine-protein kinase erbB-1; Proto...   \n",
       "134482    GPER1  Membrane estrogen receptor; Lymphocyte-derived...   \n",
       "134483    OPRM1  hMOP; Mu-type opioid receptor; Mu opioid recep...   \n",
       "134484    PRKCB  Protein kinase C beta type; PRKCB1; PKCB; PKC-...   \n",
       "134485     MMP2  TBE-1; Matrix metalloproteinase 2; CLG4A; 72 k...   \n",
       "\n",
       "                                                 FUNCTION  \\\n",
       "0       Mediates influx of calcium ions into the cytop...   \n",
       "1       Converts arachidonate to prostaglandin H2 (PGH...   \n",
       "2       Plays an essential role in the regulation of a...   \n",
       "3       The activity of this receptor is mediated by G...   \n",
       "4       Role in neuronal apoptosis. Terminates signal ...   \n",
       "...                                                   ...   \n",
       "134481  Receptor tyrosine kinase binding ligands of th...   \n",
       "134482                           Receptor for estrogen. .   \n",
       "134483  Receptor for natural and synthetic opioids inc...   \n",
       "134484  Plays a key role in B-cell activation by regul...   \n",
       "134485  As well as degrading extracellular matrix prot...   \n",
       "\n",
       "                                  BIOCLASS  \\\n",
       "0                Voltage-gated ion channel   \n",
       "1       Paired donor oxygen oxidoreductase   \n",
       "2                                   Kinase   \n",
       "3                           GPCR rhodopsin   \n",
       "4               Carboxylic ester hydrolase   \n",
       "...                                    ...   \n",
       "134481                              Kinase   \n",
       "134482                      GPCR rhodopsin   \n",
       "134483                      GPCR rhodopsin   \n",
       "134484                              Kinase   \n",
       "134485                           Peptidase   \n",
       "\n",
       "                                                 SEQUENCE  \\\n",
       "0       MVNENTRMYIPEENHQGSNYGSPRPAHANMNANAAAGLAPEHIPTP...   \n",
       "1       MSRSLLLWFLLFLLLLPPLPVLLADPGAPTPVNPCCYYPCQHQGIC...   \n",
       "2       MQSKVLLAVALWLCVETRAASVGLPSVSLDLPRLSIQKDILTIKAN...   \n",
       "3       MPPSISAFQAAYIGIEVLIALVSVPGNVLVIWAVKVNQALRDATFC...   \n",
       "4       MRPPQCLLHTPSLASPLLLLLLWLLGGGVGAEGREDAELLVTVRGG...   \n",
       "...                                                   ...   \n",
       "134481  MRPSGTAGAALLALLAALCPASRALEEKKVCQGTSNKLTQLGTFED...   \n",
       "134482  MDVTSQARGVGLEMYPGTAQPAAPNTTSPELNLSHPLLGTALANGT...   \n",
       "134483  MDSSAAPTNASNCTDALAYSSCSPAPSPGSWVNLSHLDGNLSDPCG...   \n",
       "134484  MADPAAGPPPSEGEESTVRFARKGALRQKNVHEVKNHKFTARFFKQ...   \n",
       "134485  MEALMARGALTGPLRALCLLGCLLSHAAAAPSPIIKFPGDVAPKTD...   \n",
       "\n",
       "                                    Disease Accession Number  Target_Status  \n",
       "0                Genetic cardiac arrhythmia           Q13936     Terminated  \n",
       "1                      Rheumatoid arthritis           P23219       Approved  \n",
       "2                      Renal cell carcinoma           P35968       Approved  \n",
       "3                    Hyper-lipoproteinaemia           P30542        Phase 2  \n",
       "4       Oesophageal/gastroduodenal disorder           P22303       Approved  \n",
       "...                                     ...              ...            ...  \n",
       "134481                         Chronic pain           P00533        Phase 2  \n",
       "134482                             Lymphoma           Q99527      Phase 1/2  \n",
       "134483                    Movement disorder           P35372  Investigative  \n",
       "134484    Malignant haematopoietic neoplasm           P05771        Phase 3  \n",
       "134485                   Multiple sclerosis           P08253     Terminated  \n",
       "\n",
       "[134227 rows x 19 columns]"
      ]
     },
     "execution_count": 8,
     "metadata": {},
     "output_type": "execute_result"
    }
   ],
   "source": [
    "values_to_remove = tar_remove\n",
    "\n",
    "total = total[~total['TARGNAME'].isin(values_to_remove)]\n",
    "\n",
    "print(len(total))\n",
    "total"
   ]
  },
  {
   "cell_type": "code",
   "execution_count": 9,
   "id": "6aa44a51-cc21-4a22-b6c6-c8a4c782296a",
   "metadata": {},
   "outputs": [],
   "source": [
    "total.to_csv(\"training_mod2.csv\", index = False)"
   ]
  },
  {
   "cell_type": "code",
   "execution_count": 10,
   "id": "36be5949-31ef-4784-9405-dddd6b608cbf",
   "metadata": {},
   "outputs": [],
   "source": [
    "df0=pd.read_csv(r\"C:\\Users\\Jogendra\\Downloads\\nexus-by-djs-nsdc-ultraceuticals\\training_mod2.csv\")\n",
    "tf0=pd.read_csv(r\"C:\\Users\\Jogendra\\Downloads\\nexus-by-djs-nsdc-ultraceuticals\\test.csv\")\n",
    "\n",
    "tf=tf0[[\"DRUGTYPE\",\"Disease_of_highest_status\",\"BIOCLASS\",\"SEQUENCE\",\"Disease\",\"Drug_high_status\",\"GENENAME\",\"Accession Number\",\"UNIPROID\",\"TARGNAME\",\"FUNCTION\"]]\n",
    "df=df0[[\"DRUGTYPE\",\"Disease_of_highest_status\",\"BIOCLASS\",\"SEQUENCE\",\"Disease\",\"Drug_high_status\",\"GENENAME\",\"Accession Number\",\"UNIPROID\",\"TARGNAME\",\"FUNCTION\"]]\n",
    "Y=df0[\"Target_Status\"]"
   ]
  },
  {
   "cell_type": "code",
   "execution_count": 11,
   "id": "ecb53634-63d9-4d1f-9227-6e085cccf80e",
   "metadata": {},
   "outputs": [],
   "source": [
    "total=pd.concat([df,tf])"
   ]
  },
  {
   "cell_type": "code",
   "execution_count": 12,
   "id": "0211d737-e37e-423b-9755-e11258f442a4",
   "metadata": {},
   "outputs": [
    {
     "data": {
      "text/plain": [
       "(191864, 11)"
      ]
     },
     "execution_count": 12,
     "metadata": {},
     "output_type": "execute_result"
    }
   ],
   "source": [
    "total.shape"
   ]
  },
  {
   "cell_type": "code",
   "execution_count": 13,
   "id": "57b97684-9a8a-4474-a2a1-8d1d05943bf0",
   "metadata": {},
   "outputs": [],
   "source": [
    "gene=pd.get_dummies(total['GENENAME'], drop_first= True)\n",
    "gene=gene.astype(int)"
   ]
  },
  {
   "cell_type": "code",
   "execution_count": 14,
   "id": "c3fbe94b-5794-4017-8150-c983e0e49189",
   "metadata": {},
   "outputs": [],
   "source": [
    "data=pd.get_dummies(total['DRUGTYPE'], drop_first= True)\n",
    "data=data.astype(int)"
   ]
  },
  {
   "cell_type": "code",
   "execution_count": 15,
   "id": "26d50a6b-35b4-47a4-bc05-32555ac339b1",
   "metadata": {},
   "outputs": [],
   "source": [
    "disease=pd.get_dummies(total['Disease'], drop_first= True)\n",
    "disease=disease.astype(int)"
   ]
  },
  {
   "cell_type": "code",
   "execution_count": 16,
   "id": "87f3ca99-3f5e-4797-a2c2-6d11d3f8c986",
   "metadata": {},
   "outputs": [],
   "source": [
    "tar=pd.get_dummies(total['TARGNAME'], drop_first= True)\n",
    "tar=disease.astype(int)"
   ]
  },
  {
   "cell_type": "code",
   "execution_count": 17,
   "id": "7279ac14-0243-43b6-8611-82a2cee46aeb",
   "metadata": {},
   "outputs": [],
   "source": [
    "columns=total.columns\n",
    "for col in columns:\n",
    "    total[col]= pd.Categorical(total[col]).codes"
   ]
  },
  {
   "cell_type": "code",
   "execution_count": 18,
   "id": "903c2fee-7779-4efa-8339-eff95ef6dfc6",
   "metadata": {},
   "outputs": [
    {
     "data": {
      "text/html": [
       "<div>\n",
       "<style scoped>\n",
       "    .dataframe tbody tr th:only-of-type {\n",
       "        vertical-align: middle;\n",
       "    }\n",
       "\n",
       "    .dataframe tbody tr th {\n",
       "        vertical-align: top;\n",
       "    }\n",
       "\n",
       "    .dataframe thead th {\n",
       "        text-align: right;\n",
       "    }\n",
       "</style>\n",
       "<table border=\"1\" class=\"dataframe\">\n",
       "  <thead>\n",
       "    <tr style=\"text-align: right;\">\n",
       "      <th></th>\n",
       "      <th>ABCB1</th>\n",
       "      <th>ABCC1</th>\n",
       "      <th>ABCC9</th>\n",
       "      <th>ABCG2</th>\n",
       "      <th>ABL1</th>\n",
       "      <th>ACE2</th>\n",
       "      <th>ACHE</th>\n",
       "      <th>ACVR1</th>\n",
       "      <th>ADA</th>\n",
       "      <th>ADAM10</th>\n",
       "      <th>...</th>\n",
       "      <th>Small molecular drug</th>\n",
       "      <th>Small molecule immunotherapy</th>\n",
       "      <th>Disease_of_highest_status</th>\n",
       "      <th>BIOCLASS</th>\n",
       "      <th>SEQUENCE</th>\n",
       "      <th>Drug_high_status</th>\n",
       "      <th>Accession Number</th>\n",
       "      <th>UNIPROID</th>\n",
       "      <th>TARGNAME</th>\n",
       "      <th>FUNCTION</th>\n",
       "    </tr>\n",
       "  </thead>\n",
       "  <tbody>\n",
       "    <tr>\n",
       "      <th>0</th>\n",
       "      <td>0</td>\n",
       "      <td>0</td>\n",
       "      <td>0</td>\n",
       "      <td>0</td>\n",
       "      <td>0</td>\n",
       "      <td>0</td>\n",
       "      <td>0</td>\n",
       "      <td>0</td>\n",
       "      <td>0</td>\n",
       "      <td>0</td>\n",
       "      <td>...</td>\n",
       "      <td>1</td>\n",
       "      <td>0</td>\n",
       "      <td>483</td>\n",
       "      <td>97</td>\n",
       "      <td>613</td>\n",
       "      <td>0</td>\n",
       "      <td>512</td>\n",
       "      <td>95</td>\n",
       "      <td>626</td>\n",
       "      <td>351</td>\n",
       "    </tr>\n",
       "    <tr>\n",
       "      <th>1</th>\n",
       "      <td>0</td>\n",
       "      <td>0</td>\n",
       "      <td>0</td>\n",
       "      <td>0</td>\n",
       "      <td>0</td>\n",
       "      <td>0</td>\n",
       "      <td>0</td>\n",
       "      <td>0</td>\n",
       "      <td>0</td>\n",
       "      <td>0</td>\n",
       "      <td>...</td>\n",
       "      <td>1</td>\n",
       "      <td>0</td>\n",
       "      <td>177</td>\n",
       "      <td>71</td>\n",
       "      <td>558</td>\n",
       "      <td>11</td>\n",
       "      <td>241</td>\n",
       "      <td>479</td>\n",
       "      <td>470</td>\n",
       "      <td>139</td>\n",
       "    </tr>\n",
       "    <tr>\n",
       "      <th>2</th>\n",
       "      <td>0</td>\n",
       "      <td>0</td>\n",
       "      <td>0</td>\n",
       "      <td>0</td>\n",
       "      <td>0</td>\n",
       "      <td>0</td>\n",
       "      <td>0</td>\n",
       "      <td>0</td>\n",
       "      <td>0</td>\n",
       "      <td>0</td>\n",
       "      <td>...</td>\n",
       "      <td>1</td>\n",
       "      <td>0</td>\n",
       "      <td>589</td>\n",
       "      <td>57</td>\n",
       "      <td>477</td>\n",
       "      <td>14</td>\n",
       "      <td>340</td>\n",
       "      <td>639</td>\n",
       "      <td>618</td>\n",
       "      <td>403</td>\n",
       "    </tr>\n",
       "    <tr>\n",
       "      <th>3</th>\n",
       "      <td>0</td>\n",
       "      <td>0</td>\n",
       "      <td>0</td>\n",
       "      <td>0</td>\n",
       "      <td>0</td>\n",
       "      <td>0</td>\n",
       "      <td>0</td>\n",
       "      <td>0</td>\n",
       "      <td>0</td>\n",
       "      <td>0</td>\n",
       "      <td>...</td>\n",
       "      <td>1</td>\n",
       "      <td>0</td>\n",
       "      <td>40</td>\n",
       "      <td>44</td>\n",
       "      <td>452</td>\n",
       "      <td>8</td>\n",
       "      <td>298</td>\n",
       "      <td>16</td>\n",
       "      <td>22</td>\n",
       "      <td>560</td>\n",
       "    </tr>\n",
       "    <tr>\n",
       "      <th>4</th>\n",
       "      <td>0</td>\n",
       "      <td>0</td>\n",
       "      <td>0</td>\n",
       "      <td>0</td>\n",
       "      <td>0</td>\n",
       "      <td>0</td>\n",
       "      <td>1</td>\n",
       "      <td>0</td>\n",
       "      <td>0</td>\n",
       "      <td>0</td>\n",
       "      <td>...</td>\n",
       "      <td>1</td>\n",
       "      <td>0</td>\n",
       "      <td>492</td>\n",
       "      <td>29</td>\n",
       "      <td>499</td>\n",
       "      <td>0</td>\n",
       "      <td>234</td>\n",
       "      <td>24</td>\n",
       "      <td>18</td>\n",
       "      <td>517</td>\n",
       "    </tr>\n",
       "  </tbody>\n",
       "</table>\n",
       "<p>5 rows × 1236 columns</p>\n",
       "</div>"
      ],
      "text/plain": [
       "   ABCB1  ABCC1  ABCC9  ABCG2  ABL1  ACE2  ACHE  ACVR1  ADA  ADAM10  ...  \\\n",
       "0      0      0      0      0     0     0     0      0    0       0  ...   \n",
       "1      0      0      0      0     0     0     0      0    0       0  ...   \n",
       "2      0      0      0      0     0     0     0      0    0       0  ...   \n",
       "3      0      0      0      0     0     0     0      0    0       0  ...   \n",
       "4      0      0      0      0     0     0     1      0    0       0  ...   \n",
       "\n",
       "   Small molecular drug  Small molecule immunotherapy   \\\n",
       "0                     1                              0   \n",
       "1                     1                              0   \n",
       "2                     1                              0   \n",
       "3                     1                              0   \n",
       "4                     1                              0   \n",
       "\n",
       "   Disease_of_highest_status  BIOCLASS  SEQUENCE  Drug_high_status  \\\n",
       "0                        483        97       613                 0   \n",
       "1                        177        71       558                11   \n",
       "2                        589        57       477                14   \n",
       "3                         40        44       452                 8   \n",
       "4                        492        29       499                 0   \n",
       "\n",
       "   Accession Number  UNIPROID  TARGNAME  FUNCTION  \n",
       "0               512        95       626       351  \n",
       "1               241       479       470       139  \n",
       "2               340       639       618       403  \n",
       "3               298        16        22       560  \n",
       "4               234        24        18       517  \n",
       "\n",
       "[5 rows x 1236 columns]"
      ]
     },
     "execution_count": 18,
     "metadata": {},
     "output_type": "execute_result"
    }
   ],
   "source": [
    "total2 = pd.concat([gene,disease,data,total] ,axis= 1)\n",
    "total2=total2.drop([\"Disease\",\"DRUGTYPE\",\"GENENAME\"], axis=1)\n",
    "total2.head()"
   ]
  },
  {
   "cell_type": "code",
   "execution_count": 19,
   "id": "84bfad49-a01d-4e9e-82cf-5ff5d99f5cea",
   "metadata": {},
   "outputs": [
    {
     "name": "stdout",
     "output_type": "stream",
     "text": [
      "Category to Code Mapping:\n",
      "{'Application submitted': 0, 'Approved': 1, 'Approved (orphan drug)': 2, 'BLA submitted': 3, 'Clinical trial': 4, 'Discontinued in Phase 1': 5, 'Discontinued in Phase 1/2': 6, 'Discontinued in Phase 2': 7, 'Discontinued in Phase 2/3': 8, 'Discontinued in Phase 2b': 9, 'Discontinued in Phase 3': 10, 'Discontinued in Phase 4': 11, 'Discontinued in Preregistration': 12, 'IND submitted': 13, 'Investigative': 14, 'Patented': 15, 'Phase 0': 16, 'Phase 1': 17, 'Phase 1/2': 18, 'Phase 1/2a': 19, 'Phase 1b': 20, 'Phase 1b/2a': 21, 'Phase 2': 22, 'Phase 2/3': 23, 'Phase 2a': 24, 'Phase 2b': 25, 'Phase 3': 26, 'Phase 4': 27, 'Preclinical': 28, 'Preregistration': 29, 'Registered': 30, 'Terminated': 31, 'Withdrawn from market': 32}\n"
     ]
    }
   ],
   "source": [
    "tester=total2.iloc[134227:,:]\n",
    "X_trainer=total2.iloc[:134227,:]\n",
    "Y_trainer= pd.Categorical(Y).codes\n",
    "categories = pd.Categorical(Y).categories\n",
    "# Print the mapping of categories to codes\n",
    "mapping = dict(zip(categories, range(len(categories))))\n",
    "print(\"Category to Code Mapping:\")\n",
    "print(mapping)"
   ]
  },
  {
   "cell_type": "code",
   "execution_count": 20,
   "id": "bbef42d8-d849-4ead-9de2-4a294697d9bf",
   "metadata": {},
   "outputs": [
    {
     "name": "stdout",
     "output_type": "stream",
     "text": [
      "Random Forest Accuracy: 0.99541831185279\n"
     ]
    }
   ],
   "source": [
    "from sklearn.model_selection import train_test_split\n",
    "from sklearn.ensemble import RandomForestClassifier\n",
    "from sklearn.metrics import accuracy_score\n",
    "X_train, X_test, y_train, y_test = train_test_split(X_trainer, Y_trainer, test_size=0.2, random_state=42)\n",
    "\n",
    "rf_model = RandomForestClassifier(random_state=42, n_estimators=250)\n",
    "rf_model.fit(X_train, y_train)\n",
    "\n",
    "\n",
    "rf_preds = rf_model.predict(X_test)\n",
    "\n",
    "rf_accuracy = accuracy_score(y_test, rf_preds)\n",
    "\n",
    "print(f'Random Forest Accuracy: {rf_accuracy}')"
   ]
  },
  {
   "cell_type": "code",
   "execution_count": 21,
   "id": "0127500b-ccad-495f-8d4b-5e46fe3623a0",
   "metadata": {},
   "outputs": [
    {
     "data": {
      "text/plain": [
       "array([ 1, 26, 26, ...,  1, 14, 17], dtype=int8)"
      ]
     },
     "execution_count": 21,
     "metadata": {},
     "output_type": "execute_result"
    }
   ],
   "source": [
    "tester_pred= rf_model.predict(tester)\n",
    "tester_pred"
   ]
  },
  {
   "cell_type": "code",
   "execution_count": 22,
   "id": "27f4f44d-98d6-4c5e-a567-a404fcfd1616",
   "metadata": {},
   "outputs": [],
   "source": [
    "pred_list=tester_pred.tolist()\n",
    "r_mapping = {v: k for k, v in mapping.items()}\n",
    "ans=[r_mapping[code] for code in pred_list]"
   ]
  },
  {
   "cell_type": "code",
   "execution_count": 23,
   "id": "6de7ccc7-8fd8-47a7-9797-9c85b2179f62",
   "metadata": {},
   "outputs": [],
   "source": [
    "ids=tf0[\"ID\"]\n",
    "ids=ids.tolist()"
   ]
  },
  {
   "cell_type": "code",
   "execution_count": 24,
   "id": "ea5b7d66-5fbf-4d7f-aa8c-da6d51752044",
   "metadata": {},
   "outputs": [],
   "source": [
    "end = pd.DataFrame({\n",
    "    'ID': ids,\n",
    "    'Prediction': ans\n",
    "})\n",
    "\n",
    "end.to_csv('final_submission.csv', index=False)"
   ]
  },
  {
   "cell_type": "code",
   "execution_count": null,
   "id": "7c91955f-d306-4098-9487-542015c3af4c",
   "metadata": {},
   "outputs": [],
   "source": []
  }
 ],
 "metadata": {
  "kernelspec": {
   "display_name": "Python 3 (ipykernel)",
   "language": "python",
   "name": "python3"
  },
  "language_info": {
   "codemirror_mode": {
    "name": "ipython",
    "version": 3
   },
   "file_extension": ".py",
   "mimetype": "text/x-python",
   "name": "python",
   "nbconvert_exporter": "python",
   "pygments_lexer": "ipython3",
   "version": "3.10.5"
  }
 },
 "nbformat": 4,
 "nbformat_minor": 5
}
